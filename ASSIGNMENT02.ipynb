{
 "cells": [
  {
   "cell_type": "markdown",
   "id": "d91fc649-95d8-4fa8-8579-a3cf2a704d19",
   "metadata": {},
   "source": [
    "# PART 1--Basic Exploration"
   ]
  },
  {
   "cell_type": "code",
   "execution_count": 26,
   "id": "284776b2-06f2-45c2-a8e8-2e78e5972cb3",
   "metadata": {},
   "outputs": [
    {
     "name": "stdout",
     "output_type": "stream",
     "text": [
      "   store_id        city  Jan  Feb  Mar  Apr  May  Jun  July  Aug  Sep  Oct  \\\n",
      "0       S_1       Texas    8   20   13   21   17   20    24   17   16    9   \n",
      "1       S_2  California   12   19   15   15   11   19     7   15   10   11   \n",
      "2       S_3  California   16   16   14   19   23    6    13   13   15   14   \n",
      "3       S_4       Texas    8   18   13   10   14   14     6    8    8   18   \n",
      "4       S_5       Texas   19    5   24    9    5   24    10    5   24   15   \n",
      "..      ...         ...  ...  ...  ...  ...  ...  ...   ...  ...  ...  ...   \n",
      "95     S_96       Texas    7   10   20   20   10   15    15   21   15    7   \n",
      "96     S_97  California   13    6    7   15   22   10    21   23   10    6   \n",
      "97     S_98       Texas   16    9    6   14   20   13    11   10    8   22   \n",
      "98     S_99     Arizona   18   16    9    5   12   22    11   13   21   17   \n",
      "99    S_100  California    5   23   17   24   15   21    19   10   12   20   \n",
      "\n",
      "    Nov  Dec  \n",
      "0     7    6  \n",
      "1    21   19  \n",
      "2    24    8  \n",
      "3     7   11  \n",
      "4     6   13  \n",
      "..  ...  ...  \n",
      "95   23   22  \n",
      "96   12    9  \n",
      "97   17   22  \n",
      "98   19   10  \n",
      "99    5    9  \n",
      "\n",
      "[100 rows x 14 columns]\n"
     ]
    }
   ],
   "source": [
    "#Load the dataset into a Pandas DataFrame\n",
    "import pandas as pd\n",
    "import numpy as np\n",
    "dataset_path = 'sales.csv'  \n",
    "df = pd.read_csv(r\"C:\\Users\\K. Lakhan\\Downloads\\store_sales (1).csv\")\n",
    "print(df)"
   ]
  },
  {
   "cell_type": "code",
   "execution_count": 27,
   "id": "2a60c9b5-ec01-41a5-9fc7-e662fd90b15c",
   "metadata": {},
   "outputs": [
    {
     "name": "stdout",
     "output_type": "stream",
     "text": [
      "First 5 rows:\n"
     ]
    },
    {
     "data": {
      "text/html": [
       "<div>\n",
       "<style scoped>\n",
       "    .dataframe tbody tr th:only-of-type {\n",
       "        vertical-align: middle;\n",
       "    }\n",
       "\n",
       "    .dataframe tbody tr th {\n",
       "        vertical-align: top;\n",
       "    }\n",
       "\n",
       "    .dataframe thead th {\n",
       "        text-align: right;\n",
       "    }\n",
       "</style>\n",
       "<table border=\"1\" class=\"dataframe\">\n",
       "  <thead>\n",
       "    <tr style=\"text-align: right;\">\n",
       "      <th></th>\n",
       "      <th>store_id</th>\n",
       "      <th>city</th>\n",
       "      <th>Jan</th>\n",
       "      <th>Feb</th>\n",
       "      <th>Mar</th>\n",
       "      <th>Apr</th>\n",
       "      <th>May</th>\n",
       "      <th>Jun</th>\n",
       "      <th>July</th>\n",
       "      <th>Aug</th>\n",
       "      <th>Sep</th>\n",
       "      <th>Oct</th>\n",
       "      <th>Nov</th>\n",
       "      <th>Dec</th>\n",
       "    </tr>\n",
       "  </thead>\n",
       "  <tbody>\n",
       "    <tr>\n",
       "      <th>0</th>\n",
       "      <td>S_1</td>\n",
       "      <td>Texas</td>\n",
       "      <td>8</td>\n",
       "      <td>20</td>\n",
       "      <td>13</td>\n",
       "      <td>21</td>\n",
       "      <td>17</td>\n",
       "      <td>20</td>\n",
       "      <td>24</td>\n",
       "      <td>17</td>\n",
       "      <td>16</td>\n",
       "      <td>9</td>\n",
       "      <td>7</td>\n",
       "      <td>6</td>\n",
       "    </tr>\n",
       "    <tr>\n",
       "      <th>1</th>\n",
       "      <td>S_2</td>\n",
       "      <td>California</td>\n",
       "      <td>12</td>\n",
       "      <td>19</td>\n",
       "      <td>15</td>\n",
       "      <td>15</td>\n",
       "      <td>11</td>\n",
       "      <td>19</td>\n",
       "      <td>7</td>\n",
       "      <td>15</td>\n",
       "      <td>10</td>\n",
       "      <td>11</td>\n",
       "      <td>21</td>\n",
       "      <td>19</td>\n",
       "    </tr>\n",
       "    <tr>\n",
       "      <th>2</th>\n",
       "      <td>S_3</td>\n",
       "      <td>California</td>\n",
       "      <td>16</td>\n",
       "      <td>16</td>\n",
       "      <td>14</td>\n",
       "      <td>19</td>\n",
       "      <td>23</td>\n",
       "      <td>6</td>\n",
       "      <td>13</td>\n",
       "      <td>13</td>\n",
       "      <td>15</td>\n",
       "      <td>14</td>\n",
       "      <td>24</td>\n",
       "      <td>8</td>\n",
       "    </tr>\n",
       "    <tr>\n",
       "      <th>3</th>\n",
       "      <td>S_4</td>\n",
       "      <td>Texas</td>\n",
       "      <td>8</td>\n",
       "      <td>18</td>\n",
       "      <td>13</td>\n",
       "      <td>10</td>\n",
       "      <td>14</td>\n",
       "      <td>14</td>\n",
       "      <td>6</td>\n",
       "      <td>8</td>\n",
       "      <td>8</td>\n",
       "      <td>18</td>\n",
       "      <td>7</td>\n",
       "      <td>11</td>\n",
       "    </tr>\n",
       "    <tr>\n",
       "      <th>4</th>\n",
       "      <td>S_5</td>\n",
       "      <td>Texas</td>\n",
       "      <td>19</td>\n",
       "      <td>5</td>\n",
       "      <td>24</td>\n",
       "      <td>9</td>\n",
       "      <td>5</td>\n",
       "      <td>24</td>\n",
       "      <td>10</td>\n",
       "      <td>5</td>\n",
       "      <td>24</td>\n",
       "      <td>15</td>\n",
       "      <td>6</td>\n",
       "      <td>13</td>\n",
       "    </tr>\n",
       "  </tbody>\n",
       "</table>\n",
       "</div>"
      ],
      "text/plain": [
       "  store_id        city  Jan  Feb  Mar  Apr  May  Jun  July  Aug  Sep  Oct  \\\n",
       "0      S_1       Texas    8   20   13   21   17   20    24   17   16    9   \n",
       "1      S_2  California   12   19   15   15   11   19     7   15   10   11   \n",
       "2      S_3  California   16   16   14   19   23    6    13   13   15   14   \n",
       "3      S_4       Texas    8   18   13   10   14   14     6    8    8   18   \n",
       "4      S_5       Texas   19    5   24    9    5   24    10    5   24   15   \n",
       "\n",
       "   Nov  Dec  \n",
       "0    7    6  \n",
       "1   21   19  \n",
       "2   24    8  \n",
       "3    7   11  \n",
       "4    6   13  "
      ]
     },
     "metadata": {},
     "output_type": "display_data"
    },
    {
     "name": "stdout",
     "output_type": "stream",
     "text": [
      "\n",
      "Last 5 rows:\n"
     ]
    },
    {
     "data": {
      "text/html": [
       "<div>\n",
       "<style scoped>\n",
       "    .dataframe tbody tr th:only-of-type {\n",
       "        vertical-align: middle;\n",
       "    }\n",
       "\n",
       "    .dataframe tbody tr th {\n",
       "        vertical-align: top;\n",
       "    }\n",
       "\n",
       "    .dataframe thead th {\n",
       "        text-align: right;\n",
       "    }\n",
       "</style>\n",
       "<table border=\"1\" class=\"dataframe\">\n",
       "  <thead>\n",
       "    <tr style=\"text-align: right;\">\n",
       "      <th></th>\n",
       "      <th>store_id</th>\n",
       "      <th>city</th>\n",
       "      <th>Jan</th>\n",
       "      <th>Feb</th>\n",
       "      <th>Mar</th>\n",
       "      <th>Apr</th>\n",
       "      <th>May</th>\n",
       "      <th>Jun</th>\n",
       "      <th>July</th>\n",
       "      <th>Aug</th>\n",
       "      <th>Sep</th>\n",
       "      <th>Oct</th>\n",
       "      <th>Nov</th>\n",
       "      <th>Dec</th>\n",
       "    </tr>\n",
       "  </thead>\n",
       "  <tbody>\n",
       "    <tr>\n",
       "      <th>95</th>\n",
       "      <td>S_96</td>\n",
       "      <td>Texas</td>\n",
       "      <td>7</td>\n",
       "      <td>10</td>\n",
       "      <td>20</td>\n",
       "      <td>20</td>\n",
       "      <td>10</td>\n",
       "      <td>15</td>\n",
       "      <td>15</td>\n",
       "      <td>21</td>\n",
       "      <td>15</td>\n",
       "      <td>7</td>\n",
       "      <td>23</td>\n",
       "      <td>22</td>\n",
       "    </tr>\n",
       "    <tr>\n",
       "      <th>96</th>\n",
       "      <td>S_97</td>\n",
       "      <td>California</td>\n",
       "      <td>13</td>\n",
       "      <td>6</td>\n",
       "      <td>7</td>\n",
       "      <td>15</td>\n",
       "      <td>22</td>\n",
       "      <td>10</td>\n",
       "      <td>21</td>\n",
       "      <td>23</td>\n",
       "      <td>10</td>\n",
       "      <td>6</td>\n",
       "      <td>12</td>\n",
       "      <td>9</td>\n",
       "    </tr>\n",
       "    <tr>\n",
       "      <th>97</th>\n",
       "      <td>S_98</td>\n",
       "      <td>Texas</td>\n",
       "      <td>16</td>\n",
       "      <td>9</td>\n",
       "      <td>6</td>\n",
       "      <td>14</td>\n",
       "      <td>20</td>\n",
       "      <td>13</td>\n",
       "      <td>11</td>\n",
       "      <td>10</td>\n",
       "      <td>8</td>\n",
       "      <td>22</td>\n",
       "      <td>17</td>\n",
       "      <td>22</td>\n",
       "    </tr>\n",
       "    <tr>\n",
       "      <th>98</th>\n",
       "      <td>S_99</td>\n",
       "      <td>Arizona</td>\n",
       "      <td>18</td>\n",
       "      <td>16</td>\n",
       "      <td>9</td>\n",
       "      <td>5</td>\n",
       "      <td>12</td>\n",
       "      <td>22</td>\n",
       "      <td>11</td>\n",
       "      <td>13</td>\n",
       "      <td>21</td>\n",
       "      <td>17</td>\n",
       "      <td>19</td>\n",
       "      <td>10</td>\n",
       "    </tr>\n",
       "    <tr>\n",
       "      <th>99</th>\n",
       "      <td>S_100</td>\n",
       "      <td>California</td>\n",
       "      <td>5</td>\n",
       "      <td>23</td>\n",
       "      <td>17</td>\n",
       "      <td>24</td>\n",
       "      <td>15</td>\n",
       "      <td>21</td>\n",
       "      <td>19</td>\n",
       "      <td>10</td>\n",
       "      <td>12</td>\n",
       "      <td>20</td>\n",
       "      <td>5</td>\n",
       "      <td>9</td>\n",
       "    </tr>\n",
       "  </tbody>\n",
       "</table>\n",
       "</div>"
      ],
      "text/plain": [
       "   store_id        city  Jan  Feb  Mar  Apr  May  Jun  July  Aug  Sep  Oct  \\\n",
       "95     S_96       Texas    7   10   20   20   10   15    15   21   15    7   \n",
       "96     S_97  California   13    6    7   15   22   10    21   23   10    6   \n",
       "97     S_98       Texas   16    9    6   14   20   13    11   10    8   22   \n",
       "98     S_99     Arizona   18   16    9    5   12   22    11   13   21   17   \n",
       "99    S_100  California    5   23   17   24   15   21    19   10   12   20   \n",
       "\n",
       "    Nov  Dec  \n",
       "95   23   22  \n",
       "96   12    9  \n",
       "97   17   22  \n",
       "98   19   10  \n",
       "99    5    9  "
      ]
     },
     "metadata": {},
     "output_type": "display_data"
    }
   ],
   "source": [
    "# Display first and last 5 rows\n",
    "print(\"First 5 rows:\")\n",
    "display(df.head())\n",
    "print(\"\\nLast 5 rows:\")\n",
    "display(df.tail())"
   ]
  },
  {
   "cell_type": "code",
   "execution_count": 28,
   "id": "0e0f9264-cdf2-486a-9b3b-b84c7a806146",
   "metadata": {},
   "outputs": [
    {
     "name": "stdout",
     "output_type": "stream",
     "text": [
      "<class 'pandas.core.frame.DataFrame'>\n",
      "RangeIndex: 100 entries, 0 to 99\n",
      "Data columns (total 14 columns):\n",
      " #   Column    Non-Null Count  Dtype \n",
      "---  ------    --------------  ----- \n",
      " 0   store_id  100 non-null    object\n",
      " 1   city      100 non-null    object\n",
      " 2   Jan       100 non-null    int64 \n",
      " 3   Feb       100 non-null    int64 \n",
      " 4   Mar       100 non-null    int64 \n",
      " 5   Apr       100 non-null    int64 \n",
      " 6   May       100 non-null    int64 \n",
      " 7   Jun       100 non-null    int64 \n",
      " 8   July      100 non-null    int64 \n",
      " 9   Aug       100 non-null    int64 \n",
      " 10  Sep       100 non-null    int64 \n",
      " 11  Oct       100 non-null    int64 \n",
      " 12  Nov       100 non-null    int64 \n",
      " 13  Dec       100 non-null    int64 \n",
      "dtypes: int64(12), object(2)\n",
      "memory usage: 11.1+ KB\n"
     ]
    }
   ],
   "source": [
    "#check shape,data types,and non-null counts\n",
    "df.info()"
   ]
  },
  {
   "cell_type": "code",
   "execution_count": 29,
   "id": "34f71df7-3542-4383-8e82-76b584879628",
   "metadata": {},
   "outputs": [
    {
     "data": {
      "text/plain": [
       "(100, 14)"
      ]
     },
     "execution_count": 29,
     "metadata": {},
     "output_type": "execute_result"
    }
   ],
   "source": [
    "df.shape"
   ]
  },
  {
   "cell_type": "code",
   "execution_count": 30,
   "id": "fd27fdcf-fe63-4a9c-b20c-4a094cb9b100",
   "metadata": {},
   "outputs": [
    {
     "data": {
      "text/plain": [
       "Index(['store_id', 'city', 'Jan', 'Feb', 'Mar', 'Apr', 'May', 'Jun', 'July',\n",
       "       'Aug', 'Sep', 'Oct', 'Nov', 'Dec'],\n",
       "      dtype='object')"
      ]
     },
     "execution_count": 30,
     "metadata": {},
     "output_type": "execute_result"
    }
   ],
   "source": [
    "#Print column names and summary statistics for all numeric columns\n",
    "df.columns"
   ]
  },
  {
   "cell_type": "code",
   "execution_count": 31,
   "id": "d2040476-63aa-4b18-a37a-caf8b913a2a7",
   "metadata": {},
   "outputs": [
    {
     "data": {
      "text/html": [
       "<div>\n",
       "<style scoped>\n",
       "    .dataframe tbody tr th:only-of-type {\n",
       "        vertical-align: middle;\n",
       "    }\n",
       "\n",
       "    .dataframe tbody tr th {\n",
       "        vertical-align: top;\n",
       "    }\n",
       "\n",
       "    .dataframe thead th {\n",
       "        text-align: right;\n",
       "    }\n",
       "</style>\n",
       "<table border=\"1\" class=\"dataframe\">\n",
       "  <thead>\n",
       "    <tr style=\"text-align: right;\">\n",
       "      <th></th>\n",
       "      <th>Jan</th>\n",
       "      <th>Feb</th>\n",
       "      <th>Mar</th>\n",
       "      <th>Apr</th>\n",
       "      <th>May</th>\n",
       "      <th>Jun</th>\n",
       "      <th>July</th>\n",
       "      <th>Aug</th>\n",
       "      <th>Sep</th>\n",
       "      <th>Oct</th>\n",
       "      <th>Nov</th>\n",
       "      <th>Dec</th>\n",
       "    </tr>\n",
       "  </thead>\n",
       "  <tbody>\n",
       "    <tr>\n",
       "      <th>count</th>\n",
       "      <td>100.000000</td>\n",
       "      <td>100.000000</td>\n",
       "      <td>100.000000</td>\n",
       "      <td>100.000000</td>\n",
       "      <td>100.000000</td>\n",
       "      <td>100.000000</td>\n",
       "      <td>100.000000</td>\n",
       "      <td>100.000000</td>\n",
       "      <td>100.000000</td>\n",
       "      <td>100.00000</td>\n",
       "      <td>100.000000</td>\n",
       "      <td>100.000000</td>\n",
       "    </tr>\n",
       "    <tr>\n",
       "      <th>mean</th>\n",
       "      <td>14.460000</td>\n",
       "      <td>15.090000</td>\n",
       "      <td>14.560000</td>\n",
       "      <td>14.570000</td>\n",
       "      <td>13.560000</td>\n",
       "      <td>13.800000</td>\n",
       "      <td>14.380000</td>\n",
       "      <td>15.810000</td>\n",
       "      <td>14.910000</td>\n",
       "      <td>14.10000</td>\n",
       "      <td>15.310000</td>\n",
       "      <td>13.570000</td>\n",
       "    </tr>\n",
       "    <tr>\n",
       "      <th>std</th>\n",
       "      <td>5.712683</td>\n",
       "      <td>6.055459</td>\n",
       "      <td>5.782803</td>\n",
       "      <td>4.965039</td>\n",
       "      <td>5.883241</td>\n",
       "      <td>5.962848</td>\n",
       "      <td>5.566458</td>\n",
       "      <td>6.152432</td>\n",
       "      <td>5.284043</td>\n",
       "      <td>5.87496</td>\n",
       "      <td>6.461533</td>\n",
       "      <td>5.852143</td>\n",
       "    </tr>\n",
       "    <tr>\n",
       "      <th>min</th>\n",
       "      <td>5.000000</td>\n",
       "      <td>5.000000</td>\n",
       "      <td>5.000000</td>\n",
       "      <td>5.000000</td>\n",
       "      <td>5.000000</td>\n",
       "      <td>5.000000</td>\n",
       "      <td>5.000000</td>\n",
       "      <td>5.000000</td>\n",
       "      <td>5.000000</td>\n",
       "      <td>5.00000</td>\n",
       "      <td>5.000000</td>\n",
       "      <td>5.000000</td>\n",
       "    </tr>\n",
       "    <tr>\n",
       "      <th>25%</th>\n",
       "      <td>10.000000</td>\n",
       "      <td>9.000000</td>\n",
       "      <td>9.750000</td>\n",
       "      <td>11.000000</td>\n",
       "      <td>8.000000</td>\n",
       "      <td>9.000000</td>\n",
       "      <td>10.000000</td>\n",
       "      <td>11.000000</td>\n",
       "      <td>11.000000</td>\n",
       "      <td>9.00000</td>\n",
       "      <td>10.000000</td>\n",
       "      <td>8.000000</td>\n",
       "    </tr>\n",
       "    <tr>\n",
       "      <th>50%</th>\n",
       "      <td>15.000000</td>\n",
       "      <td>16.000000</td>\n",
       "      <td>15.000000</td>\n",
       "      <td>14.500000</td>\n",
       "      <td>13.000000</td>\n",
       "      <td>13.500000</td>\n",
       "      <td>15.000000</td>\n",
       "      <td>17.000000</td>\n",
       "      <td>14.500000</td>\n",
       "      <td>14.00000</td>\n",
       "      <td>16.000000</td>\n",
       "      <td>13.000000</td>\n",
       "    </tr>\n",
       "    <tr>\n",
       "      <th>75%</th>\n",
       "      <td>19.000000</td>\n",
       "      <td>21.000000</td>\n",
       "      <td>19.250000</td>\n",
       "      <td>19.000000</td>\n",
       "      <td>19.000000</td>\n",
       "      <td>19.000000</td>\n",
       "      <td>19.000000</td>\n",
       "      <td>21.000000</td>\n",
       "      <td>19.000000</td>\n",
       "      <td>19.00000</td>\n",
       "      <td>21.250000</td>\n",
       "      <td>19.000000</td>\n",
       "    </tr>\n",
       "    <tr>\n",
       "      <th>max</th>\n",
       "      <td>24.000000</td>\n",
       "      <td>24.000000</td>\n",
       "      <td>24.000000</td>\n",
       "      <td>24.000000</td>\n",
       "      <td>24.000000</td>\n",
       "      <td>24.000000</td>\n",
       "      <td>24.000000</td>\n",
       "      <td>24.000000</td>\n",
       "      <td>24.000000</td>\n",
       "      <td>24.00000</td>\n",
       "      <td>24.000000</td>\n",
       "      <td>24.000000</td>\n",
       "    </tr>\n",
       "  </tbody>\n",
       "</table>\n",
       "</div>"
      ],
      "text/plain": [
       "              Jan         Feb         Mar         Apr         May         Jun  \\\n",
       "count  100.000000  100.000000  100.000000  100.000000  100.000000  100.000000   \n",
       "mean    14.460000   15.090000   14.560000   14.570000   13.560000   13.800000   \n",
       "std      5.712683    6.055459    5.782803    4.965039    5.883241    5.962848   \n",
       "min      5.000000    5.000000    5.000000    5.000000    5.000000    5.000000   \n",
       "25%     10.000000    9.000000    9.750000   11.000000    8.000000    9.000000   \n",
       "50%     15.000000   16.000000   15.000000   14.500000   13.000000   13.500000   \n",
       "75%     19.000000   21.000000   19.250000   19.000000   19.000000   19.000000   \n",
       "max     24.000000   24.000000   24.000000   24.000000   24.000000   24.000000   \n",
       "\n",
       "             July         Aug         Sep        Oct         Nov         Dec  \n",
       "count  100.000000  100.000000  100.000000  100.00000  100.000000  100.000000  \n",
       "mean    14.380000   15.810000   14.910000   14.10000   15.310000   13.570000  \n",
       "std      5.566458    6.152432    5.284043    5.87496    6.461533    5.852143  \n",
       "min      5.000000    5.000000    5.000000    5.00000    5.000000    5.000000  \n",
       "25%     10.000000   11.000000   11.000000    9.00000   10.000000    8.000000  \n",
       "50%     15.000000   17.000000   14.500000   14.00000   16.000000   13.000000  \n",
       "75%     19.000000   21.000000   19.000000   19.00000   21.250000   19.000000  \n",
       "max     24.000000   24.000000   24.000000   24.00000   24.000000   24.000000  "
      ]
     },
     "execution_count": 31,
     "metadata": {},
     "output_type": "execute_result"
    }
   ],
   "source": [
    "df.describe()"
   ]
  },
  {
   "cell_type": "code",
   "execution_count": 32,
   "id": "662c606d-d61a-4f04-89ff-0d0b9188e183",
   "metadata": {},
   "outputs": [
    {
     "data": {
      "text/html": [
       "<div>\n",
       "<style scoped>\n",
       "    .dataframe tbody tr th:only-of-type {\n",
       "        vertical-align: middle;\n",
       "    }\n",
       "\n",
       "    .dataframe tbody tr th {\n",
       "        vertical-align: top;\n",
       "    }\n",
       "\n",
       "    .dataframe thead th {\n",
       "        text-align: right;\n",
       "    }\n",
       "</style>\n",
       "<table border=\"1\" class=\"dataframe\">\n",
       "  <thead>\n",
       "    <tr style=\"text-align: right;\">\n",
       "      <th></th>\n",
       "      <th>sum</th>\n",
       "      <th>mean</th>\n",
       "    </tr>\n",
       "    <tr>\n",
       "      <th>Jan</th>\n",
       "      <th></th>\n",
       "      <th></th>\n",
       "    </tr>\n",
       "  </thead>\n",
       "  <tbody>\n",
       "    <tr>\n",
       "      <th>5</th>\n",
       "      <td>117</td>\n",
       "      <td>19.500000</td>\n",
       "    </tr>\n",
       "    <tr>\n",
       "      <th>6</th>\n",
       "      <td>81</td>\n",
       "      <td>13.500000</td>\n",
       "    </tr>\n",
       "    <tr>\n",
       "      <th>7</th>\n",
       "      <td>77</td>\n",
       "      <td>15.400000</td>\n",
       "    </tr>\n",
       "    <tr>\n",
       "      <th>8</th>\n",
       "      <td>80</td>\n",
       "      <td>16.000000</td>\n",
       "    </tr>\n",
       "    <tr>\n",
       "      <th>9</th>\n",
       "      <td>33</td>\n",
       "      <td>16.500000</td>\n",
       "    </tr>\n",
       "    <tr>\n",
       "      <th>10</th>\n",
       "      <td>80</td>\n",
       "      <td>20.000000</td>\n",
       "    </tr>\n",
       "    <tr>\n",
       "      <th>11</th>\n",
       "      <td>48</td>\n",
       "      <td>12.000000</td>\n",
       "    </tr>\n",
       "    <tr>\n",
       "      <th>12</th>\n",
       "      <td>68</td>\n",
       "      <td>17.000000</td>\n",
       "    </tr>\n",
       "    <tr>\n",
       "      <th>13</th>\n",
       "      <td>70</td>\n",
       "      <td>14.000000</td>\n",
       "    </tr>\n",
       "    <tr>\n",
       "      <th>14</th>\n",
       "      <td>87</td>\n",
       "      <td>12.428571</td>\n",
       "    </tr>\n",
       "    <tr>\n",
       "      <th>15</th>\n",
       "      <td>106</td>\n",
       "      <td>15.142857</td>\n",
       "    </tr>\n",
       "    <tr>\n",
       "      <th>16</th>\n",
       "      <td>127</td>\n",
       "      <td>15.875000</td>\n",
       "    </tr>\n",
       "    <tr>\n",
       "      <th>17</th>\n",
       "      <td>61</td>\n",
       "      <td>15.250000</td>\n",
       "    </tr>\n",
       "    <tr>\n",
       "      <th>18</th>\n",
       "      <td>35</td>\n",
       "      <td>11.666667</td>\n",
       "    </tr>\n",
       "    <tr>\n",
       "      <th>19</th>\n",
       "      <td>114</td>\n",
       "      <td>14.250000</td>\n",
       "    </tr>\n",
       "    <tr>\n",
       "      <th>20</th>\n",
       "      <td>48</td>\n",
       "      <td>12.000000</td>\n",
       "    </tr>\n",
       "    <tr>\n",
       "      <th>21</th>\n",
       "      <td>33</td>\n",
       "      <td>11.000000</td>\n",
       "    </tr>\n",
       "    <tr>\n",
       "      <th>22</th>\n",
       "      <td>78</td>\n",
       "      <td>11.142857</td>\n",
       "    </tr>\n",
       "    <tr>\n",
       "      <th>23</th>\n",
       "      <td>53</td>\n",
       "      <td>13.250000</td>\n",
       "    </tr>\n",
       "    <tr>\n",
       "      <th>24</th>\n",
       "      <td>61</td>\n",
       "      <td>15.250000</td>\n",
       "    </tr>\n",
       "  </tbody>\n",
       "</table>\n",
       "</div>"
      ],
      "text/plain": [
       "     sum       mean\n",
       "Jan                \n",
       "5    117  19.500000\n",
       "6     81  13.500000\n",
       "7     77  15.400000\n",
       "8     80  16.000000\n",
       "9     33  16.500000\n",
       "10    80  20.000000\n",
       "11    48  12.000000\n",
       "12    68  17.000000\n",
       "13    70  14.000000\n",
       "14    87  12.428571\n",
       "15   106  15.142857\n",
       "16   127  15.875000\n",
       "17    61  15.250000\n",
       "18    35  11.666667\n",
       "19   114  14.250000\n",
       "20    48  12.000000\n",
       "21    33  11.000000\n",
       "22    78  11.142857\n",
       "23    53  13.250000\n",
       "24    61  15.250000"
      ]
     },
     "execution_count": 32,
     "metadata": {},
     "output_type": "execute_result"
    }
   ],
   "source": [
    "# Find the total and average sales for each month(jan-\n",
    "df.groupby('Jan')['Apr'].agg(['sum', 'mean'])"
   ]
  },
  {
   "cell_type": "code",
   "execution_count": 41,
   "id": "797445c9-dd2d-45cd-975b-4a8fdcc9081b",
   "metadata": {},
   "outputs": [
    {
     "data": {
      "text/plain": [
       "np.int64(1446)"
      ]
     },
     "execution_count": 41,
     "metadata": {},
     "output_type": "execute_result"
    }
   ],
   "source": [
    "# Calculate total yearly sales for all stores combined \n",
    "df['Jan'].sum()\n"
   ]
  },
  {
   "cell_type": "markdown",
   "id": "2d0ecd7a-67a9-478f-84e1-2f430192f9dd",
   "metadata": {},
   "source": [
    "# CITY-WISE ANALYSIS"
   ]
  },
  {
   "cell_type": "code",
   "execution_count": 49,
   "id": "1a7899a3-0b96-4367-86f6-ef275790774a",
   "metadata": {},
   "outputs": [
    {
     "name": "stdout",
     "output_type": "stream",
     "text": [
      "            Jan  Feb  Mar  Apr  May  Jun  July  Aug  Sep  Oct  Nov  Dec\n",
      "city                                                                   \n",
      "Arizona     341  336  320  329  310  332   322  341  337  329  361  293\n",
      "California  634  668  629  601  570  589   637  698  640  614  657  585\n",
      "Texas       471  505  507  527  476  459   479  542  514  467  513  479\n"
     ]
    }
   ],
   "source": [
    "#Find total sales for each city in each month using groupby()\n",
    "months = ['Jan','Feb','Mar','Apr','May','Jun','July','Aug','Sep','Oct','Nov','Dec']\n",
    "city_monthly_sales = df.groupby('city')[months].sum()\n",
    "print(city_monthly_sales)"
   ]
  },
  {
   "cell_type": "code",
   "execution_count": 50,
   "id": "e13d3fdf-bffc-4bb9-b258-e5659a4d1b23",
   "metadata": {},
   "outputs": [
    {
     "name": "stdout",
     "output_type": "stream",
     "text": [
      "city\n",
      "Arizona       329.250000\n",
      "California    626.833333\n",
      "Texas         494.916667\n",
      "dtype: float64\n"
     ]
    }
   ],
   "source": [
    "#Find the average monthly sales per city\n",
    "city_avg_sales = city_monthly_sales.mean(axis=1)\n",
    "print(city_avg_sales)"
   ]
  },
  {
   "cell_type": "code",
   "execution_count": 52,
   "id": "92d70620-072c-484b-a8ff-f60fbfa53e62",
   "metadata": {},
   "outputs": [
    {
     "name": "stdout",
     "output_type": "stream",
     "text": [
      " California (626.8333333333334)\n"
     ]
    }
   ],
   "source": [
    "#identify:\n",
    "#the city with the highest average sales\n",
    "highest_avg_city = city_avg_sales.idxmax()\n",
    "highest_avg_value = city_avg_sales.max()\n",
    "print(f\" {highest_avg_city} ({highest_avg_value})\")"
   ]
  },
  {
   "cell_type": "code",
   "execution_count": 54,
   "id": "e5412113-dd22-4510-bb84-2118fd00d555",
   "metadata": {},
   "outputs": [
    {
     "name": "stdout",
     "output_type": "stream",
     "text": [
      "Arizona (3951)\n"
     ]
    }
   ],
   "source": [
    "#The city with the lowest total sales.\n",
    "city_total_sales = city_monthly_sales.sum(axis=1)\n",
    "lowest_total_city = city_total_sales.idxmin()\n",
    "lowest_total_value = city_total_sales.min()\n",
    "\n",
    "print(f\"{lowest_total_city} ({lowest_total_value})\")"
   ]
  },
  {
   "cell_type": "code",
   "execution_count": 57,
   "id": "8e801ffc-bef4-447a-9b2a-cc4de17df7cb",
   "metadata": {},
   "outputs": [
    {
     "name": "stdout",
     "output_type": "stream",
     "text": [
      "            Jan  Feb  Mar  Apr  May  Jun  July  Aug  Sep  Oct  Nov  Dec  \\\n",
      "city                                                                      \n",
      "Arizona     341  336  320  329  310  332   322  341  337  329  361  293   \n",
      "California  634  668  629  601  570  589   637  698  640  614  657  585   \n",
      "Texas       471  505  507  527  476  459   479  542  514  467  513  479   \n",
      "\n",
      "            Total_Sales  \n",
      "city                     \n",
      "Arizona            1326  \n",
      "California         2532  \n",
      "Texas              2010  \n"
     ]
    }
   ],
   "source": [
    "#Add a new column Total_Sales = Jan + Feb + Mar + Apr.\n",
    "city_monthly_sales['Total_Sales'] = city_monthly_sales[['Jan', 'Feb', 'Mar', 'Apr']].sum(axis=1)\n",
    "print(city_monthly_sales)"
   ]
  },
  {
   "cell_type": "code",
   "execution_count": 59,
   "id": "76b93b57-f033-442c-b6c4-6d13a7d8b623",
   "metadata": {},
   "outputs": [
    {
     "name": "stdout",
     "output_type": "stream",
     "text": [
      "Top 3 Total_Sales:\n",
      "city\n",
      "California    2532\n",
      "Texas         2010\n",
      "Arizona       1326\n",
      "Name: Total_Sales, dtype: int64\n"
     ]
    }
   ],
   "source": [
    "#Find the top 3 performing cities based on Total_Sales.\n",
    "top_3_cities = city_monthly_sales['Total_Sales'].sort_values(ascending=False).head(3)\n",
    "print(\"Top 3 Total_Sales:\")\n",
    "print(top_3_cities)"
   ]
  },
  {
   "cell_type": "markdown",
   "id": "739d36d7-c60d-4dff-b24c-00cf18f03cb0",
   "metadata": {},
   "source": [
    "# Store-level Insights"
   ]
  },
  {
   "cell_type": "code",
   "execution_count": 61,
   "id": "41f55bf7-e59b-436e-8cfe-efbe878371d0",
   "metadata": {},
   "outputs": [
    {
     "name": "stdout",
     "output_type": "stream",
     "text": [
      "Top 5 stores with the highest Total_Sales:\n",
      "store_id\n",
      "S_73    86\n",
      "S_78    85\n",
      "S_70    84\n",
      "S_27    80\n",
      "S_86    80\n",
      "Name: Total_Sales, dtype: int64\n"
     ]
    }
   ],
   "source": [
    "#Display the top 5 stores with the highest Total_Sales.\n",
    "store_sales = df.groupby('store_id')[['Jan', 'Feb', 'Mar', 'Apr']].sum()\n",
    "store_sales['Total_Sales'] = store_sales.sum(axis=1)\n",
    "top_5_stores = store_sales['Total_Sales'].sort_values(ascending=False).head(5)\n",
    "print(\"Top 5 stores with the highest Total_Sales:\")\n",
    "print(top_5_stores)"
   ]
  },
  {
   "cell_type": "code",
   "execution_count": 63,
   "id": "2d75bc69-9851-4d8d-aeb7-019e527fe417",
   "metadata": {},
   "outputs": [
    {
     "name": "stdout",
     "output_type": "stream",
     "text": [
      "store_id\n",
      "S_91    33\n",
      "S_19    38\n",
      "S_83    39\n",
      "S_22    39\n",
      "S_97    41\n",
      "Name: Total_Sales, dtype: int64\n"
     ]
    }
   ],
   "source": [
    "#Display the bottom 5 stores with the lowest Total_Sales.\n",
    "bottom_5_stores = store_sales['Total_Sales'].sort_values(ascending=True).head(5)\n",
    "print(bottom_5_stores)"
   ]
  },
  {
   "cell_type": "code",
   "execution_count": 69,
   "id": "49b5ccfd-88fc-4f0b-a7a4-ecf90d933242",
   "metadata": {},
   "outputs": [
    {
     "name": "stdout",
     "output_type": "stream",
     "text": [
      "Store with maximum sales in March: S_28 (24)\n"
     ]
    }
   ],
   "source": [
    "# Identify:\n",
    "#The store with maximum sales in March.\n",
    "max_march_store = store_sales['Mar'].idxmax()\n",
    "max_march_value = store_sales['Mar'].max()\n",
    "\n",
    "print(f\"{max_march_store} ({max_march_value})\")\n"
   ]
  },
  {
   "cell_type": "code",
   "execution_count": 70,
   "id": "d4d5c1b5-0eb2-460c-bdb4-d292ed0b947b",
   "metadata": {},
   "outputs": [
    {
     "name": "stdout",
     "output_type": "stream",
     "text": [
      "Store with minimum sales in April: S_32 (5)\n"
     ]
    }
   ],
   "source": [
    "#The store with minimum sales in April.\n",
    "min_april_store = store_sales['Apr'].idxmin()\n",
    "min_april_value = store_sales['Apr'].min()\n",
    "\n",
    "print(f\"{min_april_store} ({min_april_value})\")\n"
   ]
  },
  {
   "cell_type": "code",
   "execution_count": 73,
   "id": "b44de7be-ced0-4b02-bbaa-37f9c1b5d92e",
   "metadata": {},
   "outputs": [
    {
     "name": "stdout",
     "output_type": "stream",
     "text": [
      "city\n",
      "Arizona        9\n",
      "California    18\n",
      "Texas         17\n",
      "Name: store_id, dtype: int64\n"
     ]
    }
   ],
   "source": [
    "#Find how many stores in each city have average monthly sales > 15.\n",
    "store_avg_sales = df[['city', 'store_id', 'Jan', 'Feb', 'Mar', 'Apr']].copy()\n",
    "store_avg_sales['avg_sales'] = store_avg_sales[['Jan', 'Feb', 'Mar', 'Apr']].mean(axis=1)\n",
    "high_avg_sales = store_avg_sales[store_avg_sales['avg_sales'] > 15]\n",
    "stores_per_city = high_avg_sales.groupby('city')['store_id'].nunique()\n",
    "print(stores_per_city)\n"
   ]
  },
  {
   "cell_type": "code",
   "execution_count": 75,
   "id": "312f50df-98f3-4f9e-9bcc-120e1dd02e0d",
   "metadata": {},
   "outputs": [
    {
     "name": "stdout",
     "output_type": "stream",
     "text": [
      "          city store_id  Jan  Feb  Mar  Apr\n",
      "5   California      S_6   14   21   18   20\n",
      "9   California     S_10   14   23   20   11\n",
      "11  California     S_12    6   18   21    8\n",
      "16  California     S_17   13    8    7   22\n",
      "19  California     S_20   11   21   20    6\n",
      "25  California     S_26   24   11   16   11\n",
      "26  California     S_27   24   19   13   24\n",
      "27  California     S_28   10   15   24   21\n",
      "34  California     S_35   10    7   24   15\n",
      "36  California     S_37   24   16    9    6\n",
      "37  California     S_38   21   10   13   11\n",
      "48  California     S_49   22   22   10   11\n",
      "59  California     S_60    6   21   22    8\n",
      "61  California     S_62   16   21    6   22\n",
      "67  California     S_68   23   15   16   14\n",
      "72  California     S_73   20   24   24   18\n",
      "80  California     S_81   22    9   20   12\n",
      "85  California     S_86   15   23   24   18\n",
      "89  California     S_90    8   23   21   14\n",
      "93  California     S_94   19   18   14   21\n",
      "94  California     S_95   10   22   13   20\n",
      "99  California    S_100    5   23   17   24\n"
     ]
    }
   ],
   "source": [
    "# Filter stores from California that had sales > 20 in any month.\n",
    "california_high_sales = df[\n",
    "    (df['city'] == 'California') &\n",
    "    (\n",
    "        (df['Jan'] > 20) |\n",
    "        (df['Feb'] > 20) |\n",
    "        (df['Mar'] > 20) |\n",
    "        (df['Apr'] > 20)\n",
    "    )\n",
    "]\n",
    "print(california_high_sales[['city', 'store_id', 'Jan', 'Feb', 'Mar', 'Apr']])\n"
   ]
  },
  {
   "cell_type": "markdown",
   "id": "d2a8f69d-9ae5-4163-bbc8-1a0c9aabedd0",
   "metadata": {},
   "source": [
    "# Aggregation and Analysis"
   ]
  },
  {
   "cell_type": "code",
   "execution_count": 82,
   "id": "f150b85b-6bb2-49c3-b5d4-56d9889fd8a3",
   "metadata": {},
   "outputs": [
    {
     "name": "stdout",
     "output_type": "stream",
     "text": [
      "                  Jan                Feb                Mar          \\\n",
      "                 mean max min       mean max min       mean max min   \n",
      "city                                                                  \n",
      "Arizona     15.500000  23   7  15.272727  24   6  14.545455  24   5   \n",
      "California  14.744186  24   5  15.534884  24   5  14.627907  24   5   \n",
      "Texas       13.457143  24   5  14.428571  24   5  14.485714  24   5   \n",
      "\n",
      "                  Apr  ... Sep        Oct                Nov          \\\n",
      "                 mean  ... min       mean max min       mean max min   \n",
      "city                   ...                                             \n",
      "Arizona     14.954545  ...   8  14.954545  24   5  16.409091  24   5   \n",
      "California  13.976744  ...   5  14.279070  24   5  15.279070  24   5   \n",
      "Texas       15.057143  ...   6  13.342857  24   5  14.657143  24   6   \n",
      "\n",
      "                  Dec          \n",
      "                 mean max min  \n",
      "city                           \n",
      "Arizona     13.318182  24   5  \n",
      "California  13.604651  24   5  \n",
      "Texas       13.685714  24   5  \n",
      "\n",
      "[3 rows x 36 columns]\n"
     ]
    }
   ],
   "source": [
    "# Using groupby(\"city\"), compute: Mean, Max, and Min for each month.\n",
    "city_monthly_stats = df.groupby('city')[months].agg(['mean', 'max', 'min'])\n",
    "print(city_monthly_stats)"
   ]
  },
  {
   "cell_type": "code",
   "execution_count": 85,
   "id": "23606baa-55e4-4a5b-8090-a84018257d3f",
   "metadata": {},
   "outputs": [
    {
     "name": "stdout",
     "output_type": "stream",
     "text": [
      "California (14.627906976744185)\n"
     ]
    }
   ],
   "source": [
    "#Find the city with the highest average March sales.\n",
    "city_avg_march = df.groupby('city')['Mar'].mean()\n",
    "highest_avg_march_city = city_avg_march.idxmax()\n",
    "highest_avg_march_value = city_avg_march.max()\n",
    "print(f\"{highest_avg_march_city} ({highest_avg_march_value})\")"
   ]
  },
  {
   "cell_type": "code",
   "execution_count": 86,
   "id": "5b5dd362-d510-4b0f-b9b2-27fda54a5105",
   "metadata": {},
   "outputs": [
    {
     "name": "stdout",
     "output_type": "stream",
     "text": [
      "city\n",
      "Arizona       14.965909\n",
      "California    14.577519\n",
      "Texas         14.140476\n",
      "dtype: float64\n"
     ]
    }
   ],
   "source": [
    "#Calculate the overall average sales per city (across all months).\n",
    "city_overall_avg = df.groupby('city')[months].mean().mean(axis=1)\n",
    "print(city_overall_avg)"
   ]
  },
  {
   "cell_type": "code",
   "execution_count": 88,
   "id": "3e1c3def-6a35-4125-9355-9c0d61a80a80",
   "metadata": {},
   "outputs": [
    {
     "name": "stdout",
     "output_type": "stream",
     "text": [
      "Aug (1581)\n"
     ]
    }
   ],
   "source": [
    "# Identify the month with the highest overall sales.\n",
    "total_sales_per_month = df[months].sum()\n",
    "highest_sales_month = total_sales_per_month.idxmax()\n",
    "highest_sales_value = total_sales_per_month.max()\n",
    "print(f\"{highest_sales_month} ({highest_sales_value})\")"
   ]
  },
  {
   "cell_type": "code",
   "execution_count": 89,
   "id": "fe3a71e6-7bca-4b0b-a1d1-11fec707b21d",
   "metadata": {},
   "outputs": [
    {
     "name": "stdout",
     "output_type": "stream",
     "text": [
      "Month with maximum total sales for each city:\n",
      "city\n",
      "Arizona       Nov\n",
      "California    Aug\n",
      "Texas         Aug\n",
      "dtype: object\n"
     ]
    }
   ],
   "source": [
    "#For each city, find the month with maximum total sales.\n",
    "city_monthly_sales = df.groupby('city')[months].sum()\n",
    "max_sales_month_per_city = city_monthly_sales.idxmax(axis=1)\n",
    "print(\"Month with maximum total sales for each city:\")\n",
    "print(max_sales_month_per_city)"
   ]
  },
  {
   "cell_type": "code",
   "execution_count": 90,
   "id": "2372a2ea-2687-4f61-a2d1-105057839ab8",
   "metadata": {},
   "outputs": [
    {
     "name": "stdout",
     "output_type": "stream",
     "text": [
      "   store_id  Average_Sales\n",
      "0       S_1      14.833333\n",
      "1       S_2      14.500000\n",
      "2       S_3      15.083333\n",
      "3       S_4      11.250000\n",
      "4       S_5      13.250000\n",
      "..      ...            ...\n",
      "95     S_96      15.416667\n",
      "96     S_97      12.833333\n",
      "97     S_98      14.000000\n",
      "98     S_99      14.416667\n",
      "99    S_100      15.000000\n",
      "\n",
      "[100 rows x 2 columns]\n"
     ]
    }
   ],
   "source": [
    "#Add a column Average_Sales (average of all months per store).\n",
    "df['Average_Sales'] = df[months].mean(axis=1)\n",
    "print(df[['store_id', 'Average_Sales']])"
   ]
  },
  {
   "cell_type": "code",
   "execution_count": 91,
   "id": "76ed7cc6-382e-4968-bbbe-e92acdad01cf",
   "metadata": {},
   "outputs": [
    {
     "name": "stdout",
     "output_type": "stream",
     "text": [
      "   store_id  Average_Sales\n",
      "85     S_86      17.833333\n",
      "61     S_62      17.833333\n",
      "72     S_73      17.750000\n",
      "77     S_78      17.583333\n",
      "50     S_51      17.500000\n",
      "..      ...            ...\n",
      "57     S_58      11.750000\n",
      "43     S_44      11.583333\n",
      "3       S_4      11.250000\n",
      "90     S_91      11.000000\n",
      "47     S_48      10.833333\n",
      "\n",
      "[100 rows x 2 columns]\n"
     ]
    }
   ],
   "source": [
    "# Sort the dataset by this column in descending order.\n",
    "df_sorted = df.sort_values(by='Average_Sales', ascending=False)\n",
    "print(df_sorted[['store_id', 'Average_Sales']])"
   ]
  },
  {
   "cell_type": "markdown",
   "id": "27e9b057-ffc6-45a8-ac5f-63d7307989ba",
   "metadata": {},
   "source": [
    "# Visualization Tasks"
   ]
  },
  {
   "cell_type": "code",
   "execution_count": 98,
   "id": "f4c71b63-fd92-4a13-9d74-50a16c11145e",
   "metadata": {},
   "outputs": [
    {
     "data": {
      "image/png": "[encoded data removed]",
      "text/plain": [
       "<Figure size 1000x600 with 1 Axes>"
      ]
     },
     "metadata": {},
     "output_type": "display_data"
    }
   ],
   "source": [
    "#Plot a bar chart showing total sales by city.\n",
    "import matplotlib.pyplot as plt\n",
    "city_total_sales = df.groupby('city')[months].sum().sum(axis=1)\n",
    "plt.figure(figsize=(10,6))\n",
    "city_total_sales.plot(kind='bar', color='skyblue')\n",
    "plt.title('Total Sales by City')\n",
    "plt.xlabel('city')\n",
    "plt.ylabel('Total Sales')\n",
    "plt.xticks(rotation=45)\n",
    "plt.grid(axis='y', linestyle='--', alpha=0.7)\n",
    "plt.show()"
   ]
  },
  {
   "cell_type": "code",
   "execution_count": 99,
   "id": "1cf5a603-184a-4f95-be3c-702e56f50bb6",
   "metadata": {},
   "outputs": [
    {
     "data": {
      "image/png": "[encoded data removed]",
      "text/plain": [
       "<Figure size 1000x600 with 1 Axes>"
      ]
     },
     "metadata": {},
     "output_type": "display_data"
    }
   ],
   "source": [
    "#Plot a line chart showing average monthly sales across all stores.\n",
    "avg_sales_per_month = df[months].mean()\n",
    "plt.figure(figsize=(10,6))\n",
    "plt.plot(months, avg_sales_per_month, marker='o', linestyle='-', color='green')\n",
    "plt.title('Average Monthly Sales Across All Stores')\n",
    "plt.xlabel('Month')\n",
    "plt.ylabel('Average Sales')\n",
    "plt.grid(True, linestyle='--', alpha=0.7)\n",
    "plt.xticks(rotation=45)\n",
    "plt.show()"
   ]
  },
  {
   "cell_type": "code",
   "execution_count": 100,
   "id": "7ec69729-7aab-4584-8917-473a652e11a7",
   "metadata": {},
   "outputs": [
    {
     "data": {
      "image/png": "[encoded data removed]",
      "text/plain": [
       "<Figure size 800x800 with 1 Axes>"
      ]
     },
     "metadata": {},
     "output_type": "display_data"
    }
   ],
   "source": [
    "#Plot a pie chart showing the share of each city in total yearly sales.\n",
    "city_total_sales = df.groupby('city')[months].sum().sum(axis=1)\n",
    "plt.figure(figsize=(8,8))\n",
    "plt.pie(city_total_sales, labels=city_total_sales.index, autopct='%1.1f%%', startangle=140, colors=plt.cm.tab20.colors)\n",
    "plt.title('Share of Each City in Total Yearly Sales')\n",
    "plt.show()"
   ]
  },
  {
   "cell_type": "code",
   "execution_count": 101,
   "id": "80010c5e-dee2-472d-a112-b48ca376bbc3",
   "metadata": {},
   "outputs": [
    {
     "data": {
      "image/png": "[encoded data removed]",
      "text/plain": [
       "<Figure size 1000x600 with 1 Axes>"
      ]
     },
     "metadata": {},
     "output_type": "display_data"
    }
   ],
   "source": [
    "#Plot a horizontal bar chart of the top 10 stores based on total sales\n",
    "store_total_sales = df.set_index('store_id')[months].sum(axis=1)\n",
    "top_10_stores = store_total_sales.sort_values(ascending=False).head(10)\n",
    "plt.figure(figsize=(10,6))\n",
    "top_10_stores.plot(kind='barh', color='orange')\n",
    "plt.title('Top 10 Stores Based on Total Sales')\n",
    "plt.xlabel('Total Sales')\n",
    "plt.ylabel('Store_id')\n",
    "plt.gca().invert_yaxis()  \n",
    "plt.grid(axis='x', linestyle='--', alpha=0.7)\n",
    "plt.show()"
   ]
  },
  {
   "cell_type": "code",
   "execution_count": null,
   "id": "86b0020b-1744-42ac-af9f-1f9642823ff7",
   "metadata": {},
   "outputs": [],
   "source": [
    "#Create a boxplot to compare monthly sales distribution by city.\n",
    "import seaborn as sns\n",
    "df_melted = df.melt(id_vars='city', value_vars=months,var_name='Month', value_name='Sales')\n",
    "plt.figure(figsize=(12,6))\n",
    "sns.boxplot(x='Month', y='Sales', hue='city', data=df_melted)\n",
    "plt.title('Monthly Sales Distribution by City')\n",
    "plt.xlabel('Month')\n",
    "plt.ylabel('Sales')\n",
    "plt.xticks(rotation=45)\n",
    "plt.legend(title='City', bbox_to_anchor=(1.05, 1), loc='upper left')\n",
    "plt.show()"
   ]
  }
 ],
 "metadata": {
  "kernelspec": {
   "display_name": "Python 3 (ipykernel)",
   "language": "python",
   "name": "python3"
  },
  "language_info": {
   "codemirror_mode": {
    "name": "ipython",
    "version": 3
   },
   "file_extension": ".py",
   "mimetype": "text/x-python",
   "name": "python",
   "nbconvert_exporter": "python",
   "pygments_lexer": "ipython3",
   "version": "3.13.5"
  }
 },
 "nbformat": 4,
 "nbformat_minor": 5
}
